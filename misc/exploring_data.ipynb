{
 "cells": [
  {
   "cell_type": "code",
   "id": "initial_id",
   "metadata": {
    "collapsed": true,
    "ExecuteTime": {
     "end_time": "2024-12-21T17:52:25.929972Z",
     "start_time": "2024-12-21T17:52:25.902094Z"
    }
   },
   "source": [
    "import json\n",
    "\n",
    "raw_data = json.load(open('../mini_json_dataset.json', \"r\"))\n",
    "\n",
    "raw_data.keys()"
   ],
   "outputs": [
    {
     "data": {
      "text/plain": [
       "dict_keys(['stops', 'trips', 'vehicles', 'duties'])"
      ]
     },
     "execution_count": 3,
     "metadata": {},
     "output_type": "execute_result"
    }
   ],
   "execution_count": 3
  },
  {
   "metadata": {
    "ExecuteTime": {
     "end_time": "2024-12-21T17:56:20.828956Z",
     "start_time": "2024-12-21T17:56:20.825532Z"
    }
   },
   "cell_type": "code",
   "source": [
    "for vehicle in raw_data['vehicles']:\n",
    "    for event in vehicle['vehicle_events']:\n",
    "        all(event['vehicle_event_type'] != 'service_trip' and 'trip_id' not in event for event in vehicle['vehicle_events'])\n",
    "        all(event['vehicle_event_type'] == 'service_trip' and 'trip_id' in event for event in vehicle['vehicle_events'])\n",
    "# Fact: only service trips have trip_ids"
   ],
   "id": "6e88e7abacb134e",
   "outputs": [],
   "execution_count": 8
  },
  {
   "metadata": {
    "ExecuteTime": {
     "end_time": "2024-12-21T18:06:27.367538Z",
     "start_time": "2024-12-21T18:06:27.363244Z"
    }
   },
   "cell_type": "code",
   "source": [
    "for stop in raw_data[\"stops\"]:\n",
    "    if stop[\"is_depot\"]:\n",
    "        assert all(trip[\"origin_stop_id\"] != stop[\"stop_id\"] and trip[\"destination_stop_id\"] != stop[\"stop_id\"] for trip in raw_data[\"trips\"])\n",
    "# Fact: no service trips end or start at the depot (a depot is not a 'normal' spot and a depot simultaneously)"
   ],
   "id": "ab56bad399fd3782",
   "outputs": [],
   "execution_count": 11
  },
  {
   "metadata": {
    "ExecuteTime": {
     "end_time": "2024-12-21T18:09:18.426330Z",
     "start_time": "2024-12-21T18:09:18.422681Z"
    }
   },
   "cell_type": "code",
   "source": [
    "sorted_stops = sorted(raw_data[\"stops\"], key=lambda x: (x[\"latitude\"], x[\"longitude\"]))\n",
    "assert all(sorted_stops[i][\"latitude\"] != sorted_stops[i+1][\"latitude\"] and sorted_stops[i][\"longitude\"] != sorted_stops[i+1][\"longitude\"] for i in range(len(sorted_stops)-1))\n",
    "# Fact: no two stops have the same geographical location\n",
    "# This doesn't help me that much in knowing whether taxis/deadheads are necessary between any two stops.\n",
    "# The distance might be small and the driver might get to the next one by walking, but I'll assume that's never the case, as I haven't been asked to do much error-handling."
   ],
   "id": "15aba9742877a63b",
   "outputs": [],
   "execution_count": 12
  },
  {
   "metadata": {},
   "cell_type": "code",
   "outputs": [],
   "execution_count": null,
   "source": "# Breaks can happen between vehicles within a duty (\"split\") or between trips within a vehicle (\"layover\")",
   "id": "fc77e107a342178a"
  }
 ],
 "metadata": {
  "kernelspec": {
   "display_name": "Python 3",
   "language": "python",
   "name": "python3"
  },
  "language_info": {
   "codemirror_mode": {
    "name": "ipython",
    "version": 2
   },
   "file_extension": ".py",
   "mimetype": "text/x-python",
   "name": "python",
   "nbconvert_exporter": "python",
   "pygments_lexer": "ipython2",
   "version": "2.7.6"
  }
 },
 "nbformat": 4,
 "nbformat_minor": 5
}
