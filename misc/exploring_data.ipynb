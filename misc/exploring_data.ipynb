{
 "cells": [
  {
   "cell_type": "code",
   "execution_count": 66,
   "id": "initial_id",
   "metadata": {
    "ExecuteTime": {
     "end_time": "2024-12-22T20:04:38.417207Z",
     "start_time": "2024-12-22T20:04:38.400211Z"
    },
    "collapsed": true
   },
   "outputs": [
    {
     "data": {
      "text/plain": [
       "dict_keys(['stops', 'trips', 'vehicles', 'duties'])"
      ]
     },
     "execution_count": 66,
     "metadata": {},
     "output_type": "execute_result"
    }
   ],
   "source": [
    "import json\n",
    "\n",
    "raw_data = json.load(open(\"../mini_json_dataset.json\", \"r\"))\n",
    "\n",
    "raw_data.keys()"
   ]
  },
  {
   "cell_type": "markdown",
   "id": "a5a00190d2d1e06f",
   "metadata": {},
   "source": "# Fact: only service trips have trip_ids\n"
  },
  {
   "cell_type": "code",
   "execution_count": 67,
   "id": "6e88e7abacb134e",
   "metadata": {
    "ExecuteTime": {
     "end_time": "2024-12-22T20:04:38.450083Z",
     "start_time": "2024-12-22T20:04:38.438839Z"
    }
   },
   "outputs": [],
   "source": [
    "for vehicle in raw_data[\"vehicles\"]:\n",
    "    for event in vehicle[\"vehicle_events\"]:\n",
    "        all(\n",
    "            event[\"vehicle_event_type\"] != \"service_trip\" and \"trip_id\" not in event\n",
    "            for event in vehicle[\"vehicle_events\"]\n",
    "        )\n",
    "        all(\n",
    "            event[\"vehicle_event_type\"] == \"service_trip\" and \"trip_id\" in event\n",
    "            for event in vehicle[\"vehicle_events\"]\n",
    "        )"
   ]
  },
  {
   "cell_type": "markdown",
   "id": "1fc223ba5971bdeb",
   "metadata": {},
   "source": "# Fact: no service trips end or start at the depot (a depot is not a 'normal' spot and a depot simultaneously)"
  },
  {
   "cell_type": "code",
   "execution_count": 68,
   "id": "ab56bad399fd3782",
   "metadata": {
    "ExecuteTime": {
     "end_time": "2024-12-22T20:04:38.472256Z",
     "start_time": "2024-12-22T20:04:38.467729Z"
    }
   },
   "outputs": [],
   "source": [
    "for stop in raw_data[\"stops\"]:\n",
    "    if stop[\"is_depot\"]:\n",
    "        assert all(\n",
    "            trip[\"origin_stop_id\"] != stop[\"stop_id\"]\n",
    "            and trip[\"destination_stop_id\"] != stop[\"stop_id\"]\n",
    "            for trip in raw_data[\"trips\"]\n",
    "        )"
   ]
  },
  {
   "cell_type": "markdown",
   "id": "ae2bd57ab3f1f581",
   "metadata": {},
   "source": [
    "# Fact: no two stops have the same geographical location\n",
    "### This doesn't help me that much in knowing whether taxis/deadheads are necessary between any two stops.\n",
    "### The distance might be small and the driver might get to the next one by walking, but I'll assume that's never the case, as I haven't been asked to do much error-handling."
   ]
  },
  {
   "cell_type": "code",
   "execution_count": 69,
   "id": "15aba9742877a63b",
   "metadata": {
    "ExecuteTime": {
     "end_time": "2024-12-22T20:04:38.494415Z",
     "start_time": "2024-12-22T20:04:38.488964Z"
    }
   },
   "outputs": [],
   "source": [
    "sorted_stops = sorted(raw_data[\"stops\"], key=lambda x: (x[\"latitude\"], x[\"longitude\"]))\n",
    "assert all(\n",
    "    sorted_stops[i][\"latitude\"] != sorted_stops[i + 1][\"latitude\"]\n",
    "    and sorted_stops[i][\"longitude\"] != sorted_stops[i + 1][\"longitude\"]\n",
    "    for i in range(len(sorted_stops) - 1)\n",
    ")"
   ]
  },
  {
   "cell_type": "markdown",
   "id": "2ad1c8ad692c1562",
   "metadata": {},
   "source": [
    "# Note:\n",
    "Breaks of a duty can happen within the duty data structure (between vehicles, during a \"split\") or within the vehicle data structure (between trips, called \"layover\")"
   ]
  },
  {
   "cell_type": "code",
   "execution_count": 79,
   "id": "8a9a02442868ee6c",
   "metadata": {
    "ExecuteTime": {
     "end_time": "2024-12-22T20:05:33.657171Z",
     "start_time": "2024-12-22T20:05:33.645908Z"
    }
   },
   "outputs": [],
   "source": [
    "from json import dump\n",
    "\n",
    "unittests_json = {\n",
    "    \"duties\": [],\n",
    "    \"vehicles\": [],\n",
    "    \"trips\": [],\n",
    "    \"stops\": [],\n",
    "}\n",
    "\n",
    "\n",
    "def filter_objects_by_id(\n",
    "    object_list: dict, object_name: str, ids: list[str]\n",
    ") -> list[dict]:\n",
    "    \"\"\"Filters the objects in object_list by their id\n",
    "\n",
    "    Args:\n",
    "    object_list: A list of objects\n",
    "    object_name: The name of the object type in object_list\n",
    "    ids: A list of ids\n",
    "\n",
    "    Returns:\n",
    "        A list of objects whose id is in ids\n",
    "    \"\"\"\n",
    "    return [obj for obj in object_list if obj[f\"{object_name}_id\"] in ids]\n",
    "\n",
    "\n",
    "def get_vehicles_in_duty(duty: dict) -> set[str]:\n",
    "    return {\n",
    "        e[\"vehicle_id\"]\n",
    "        for e in duty[\"duty_events\"]\n",
    "        if e[\"duty_event_type\"] == \"vehicle_event\"\n",
    "    }\n",
    "\n",
    "\n",
    "# It's good to have a reduced test dataset for the tests to be quick to run and\n",
    "# to be able to debug them from start to end in a reasonable amount of time\n",
    "# when they fail. Below, I select from the entire dataset a subset that encompasses\n",
    "# a complex-enough scenario (duties that have overlap in vehicles, and that have\n",
    "# multiple vehicles), in order to cover most edge cases.\n",
    "\n",
    "selected_duties: list[dict] = []\n",
    "\n",
    "multi_vehicle_duties = [\n",
    "    duty for duty in raw_data[\"duties\"] if len(get_vehicles_in_duty(duty)) > 1\n",
    "]\n",
    "\n",
    "for multi_vehicle_duty in multi_vehicle_duties:\n",
    "    vehicles_in_duty = get_vehicles_in_duty(multi_vehicle_duty)\n",
    "    for other_duty in raw_data[\"duties\"]:\n",
    "        if other_duty == multi_vehicle_duty:\n",
    "            continue\n",
    "        vehicles_in_other_duty = get_vehicles_in_duty(other_duty)\n",
    "        if vehicles_in_duty.intersection(vehicles_in_other_duty):\n",
    "            selected_duties = [multi_vehicle_duty, other_duty]\n",
    "            break\n",
    "    if selected_duties:\n",
    "        break\n",
    "\n",
    "selected_duties.append(\n",
    "    [duty for duty in raw_data[\"duties\"] if len(get_vehicles_in_duty(duty)) == 1][0]\n",
    ")\n",
    "\n",
    "# Although I could have avoided recomputing the vehicles in each duty, this code\n",
    "# is ran only once and it runs in milisseconds, optimizing here is unnecessary.\n",
    "relevant_vehicles = set()\n",
    "for duty in selected_duties:\n",
    "    relevant_vehicles.update(get_vehicles_in_duty(duty))\n",
    "\n",
    "unittests_json[\"duties\"] = selected_duties\n",
    "\n",
    "relevant_stops = {\n",
    "    event[\"origin_stop_id\"]\n",
    "    for duty in unittests_json[\"duties\"]\n",
    "    for event in duty[\"duty_events\"]\n",
    "    if event[\"duty_event_type\"] != \"vehicle_event\"\n",
    "}\n",
    "\n",
    "unittests_json[\"vehicles\"] = [\n",
    "    vehicle\n",
    "    for vehicle in raw_data[\"vehicles\"]\n",
    "    if vehicle[\"vehicle_id\"] in relevant_vehicles\n",
    "]\n",
    "\n",
    "relevant_trips = {\n",
    "    event[\"trip_id\"]\n",
    "    for vehicle in unittests_json[\"vehicles\"]\n",
    "    for event in vehicle[\"vehicle_events\"]\n",
    "    if event[\"vehicle_event_type\"] == \"service_trip\"\n",
    "}\n",
    "\n",
    "relevant_stops.update(\n",
    "    {\n",
    "        event[\"origin_stop_id\"]\n",
    "        for vehicle in unittests_json[\"vehicles\"]\n",
    "        for event in vehicle[\"vehicle_events\"]\n",
    "        if event[\"vehicle_event_type\"] != \"service_trip\"\n",
    "    }\n",
    ")\n",
    "\n",
    "relevant_stops.update(\n",
    "    {\n",
    "        event[\"destination_stop_id\"]\n",
    "        for vehicle in unittests_json[\"vehicles\"]\n",
    "        for event in vehicle[\"vehicle_events\"]\n",
    "        if event[\"vehicle_event_type\"] != \"service_trip\"\n",
    "    }\n",
    ")\n",
    "\n",
    "unittests_json[\"trips\"] = filter_objects_by_id(\n",
    "    raw_data[\"trips\"], \"trip\", relevant_trips\n",
    ")\n",
    "\n",
    "relevant_stops.update(\n",
    "    {\n",
    "        stop_id\n",
    "        for trip in unittests_json[\"trips\"]\n",
    "        for stop_id in [trip[\"origin_stop_id\"], trip[\"destination_stop_id\"]]\n",
    "    }\n",
    ")\n",
    "\n",
    "\n",
    "unittests_json[\"stops\"] = filter_objects_by_id(\n",
    "    raw_data[\"stops\"], \"stop\", relevant_stops\n",
    ")\n",
    "\n",
    "dump(unittests_json, open(\"../tests/unittests_json.json\", \"w\"), indent=2)"
   ]
  },
  {
   "cell_type": "markdown",
   "id": "e3e148b00f07eaf7",
   "metadata": {},
   "source": [
    "# Fact: the only types of duty events are sign_on, sign_off, and vehicle_event. \n",
    "## Layovers and \"splits\" are not represented in the data structures, but inferred from the data.\n"
   ]
  },
  {
   "cell_type": "code",
   "execution_count": 71,
   "id": "6f3179b9fc771698",
   "metadata": {
    "ExecuteTime": {
     "end_time": "2024-12-22T20:04:38.558098Z",
     "start_time": "2024-12-22T20:04:38.552325Z"
    }
   },
   "outputs": [
    {
     "data": {
      "text/plain": [
       "{'sign_on', 'taxi', 'vehicle_event'}"
      ]
     },
     "execution_count": 71,
     "metadata": {},
     "output_type": "execute_result"
    }
   ],
   "source": [
    "event_types = set()\n",
    "for duty in raw_data[\"duties\"]:\n",
    "    for event in duty[\"duty_events\"]:\n",
    "        event_types.add(event[\"duty_event_type\"])\n",
    "event_types"
   ]
  },
  {
   "cell_type": "markdown",
   "id": "81d8ea2bef473999",
   "metadata": {},
   "source": [
    "# Fact: the only types of vehicle events are attendance, deadhead, depot_pull_in, depot_pull_out, pre_trip, service_trip. \n",
    "## Layovers are not represented in the data structures, but inferred from the data. As splits happen between vehicles, they aren't a vahicle event type.\n"
   ]
  },
  {
   "cell_type": "code",
   "execution_count": 72,
   "id": "801e867da9014fd3",
   "metadata": {
    "ExecuteTime": {
     "end_time": "2024-12-22T20:04:38.583237Z",
     "start_time": "2024-12-22T20:04:38.577172Z"
    }
   },
   "outputs": [
    {
     "data": {
      "text/plain": [
       "{'attendance',\n",
       " 'deadhead',\n",
       " 'depot_pull_in',\n",
       " 'depot_pull_out',\n",
       " 'pre_trip',\n",
       " 'service_trip'}"
      ]
     },
     "execution_count": 72,
     "metadata": {},
     "output_type": "execute_result"
    }
   ],
   "source": [
    "event_types = set()\n",
    "for duty in raw_data[\"vehicles\"]:\n",
    "    for event in duty[\"vehicle_events\"]:\n",
    "        event_types.add(event[\"vehicle_event_type\"])\n",
    "event_types"
   ]
  },
  {
   "cell_type": "markdown",
   "id": "1ce87c6ffcdf7940",
   "metadata": {},
   "source": "# Fact: two duties don't ever claim the same vehicle event"
  },
  {
   "cell_type": "code",
   "execution_count": 73,
   "id": "243cffdaf40fd685",
   "metadata": {
    "ExecuteTime": {
     "end_time": "2024-12-22T20:04:38.609141Z",
     "start_time": "2024-12-22T20:04:38.602124Z"
    }
   },
   "outputs": [
    {
     "data": {
      "text/plain": [
       "True"
      ]
     },
     "execution_count": 73,
     "metadata": {},
     "output_type": "execute_result"
    }
   ],
   "source": [
    "vehicle_events_list = []\n",
    "for duty in raw_data[\"duties\"]:\n",
    "    for event in duty[\"duty_events\"]:\n",
    "        if event[\"duty_event_type\"] == \"vehicle_event\":\n",
    "            vehicle_events_list.append(\n",
    "                (event[\"vehicle_event_sequence\"], event[\"vehicle_id\"])\n",
    "            )\n",
    "len(vehicle_events_list) == len(set(vehicle_events_list))"
   ]
  },
  {
   "cell_type": "code",
   "execution_count": null,
   "id": "bd5cbef69e3934b3",
   "metadata": {},
   "outputs": [],
   "source": [
    "# Fact: within a duty, vehicle events from the same vehicle are sequential and don't ever skip a number (useful for easily detecting breaks)"
   ]
  },
  {
   "cell_type": "code",
   "execution_count": 83,
   "id": "aa93d86f59c39ae9",
   "metadata": {
    "ExecuteTime": {
     "end_time": "2024-12-22T20:23:17.249802Z",
     "start_time": "2024-12-22T20:23:17.245108Z"
    }
   },
   "outputs": [],
   "source": [
    "for duty in raw_data[\"duties\"]:\n",
    "    vehicles = set()\n",
    "    for event in duty[\"duty_events\"]:\n",
    "        if event[\"duty_event_type\"] == \"vehicle_event\":\n",
    "            vehicles.add(event[\"vehicle_id\"])\n",
    "\n",
    "    for vehicle in vehicles:\n",
    "        vehicle_events = [\n",
    "            event[\"vehicle_event_sequence\"]\n",
    "            for event in duty[\"duty_events\"]\n",
    "            if event[\"duty_event_type\"] == \"vehicle_event\"\n",
    "            and event[\"vehicle_id\"] == vehicle\n",
    "        ]\n",
    "        assert vehicle_events == list(\n",
    "            range(min(vehicle_events), max(vehicle_events) + 1)\n",
    "        )"
   ]
  }
 ],
 "metadata": {
  "kernelspec": {
   "display_name": "Python 3",
   "language": "python",
   "name": "python3"
  },
  "language_info": {
   "codemirror_mode": {
    "name": "ipython",
    "version": 2
   },
   "file_extension": ".py",
   "mimetype": "text/x-python",
   "name": "python",
   "nbconvert_exporter": "python",
   "pygments_lexer": "ipython2",
   "version": "2.7.6"
  }
 },
 "nbformat": 4,
 "nbformat_minor": 5
}
