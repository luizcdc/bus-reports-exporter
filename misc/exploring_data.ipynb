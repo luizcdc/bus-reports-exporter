{
 "cells": [
  {
   "cell_type": "code",
   "execution_count": 49,
   "id": "initial_id",
   "metadata": {
    "ExecuteTime": {
     "end_time": "2024-12-22T12:42:55.954555Z",
     "start_time": "2024-12-22T12:42:55.940286Z"
    },
    "collapsed": true
   },
   "outputs": [
    {
     "data": {
      "text/plain": [
       "dict_keys(['stops', 'trips', 'vehicles', 'duties'])"
      ]
     },
     "execution_count": 49,
     "metadata": {},
     "output_type": "execute_result"
    }
   ],
   "source": [
    "import json\n",
    "\n",
    "raw_data = json.load(open(\"../mini_json_dataset.json\", \"r\"))\n",
    "\n",
    "raw_data.keys()"
   ]
  },
  {
   "cell_type": "code",
   "execution_count": 50,
   "id": "6e88e7abacb134e",
   "metadata": {
    "ExecuteTime": {
     "end_time": "2024-12-22T12:42:55.964541Z",
     "start_time": "2024-12-22T12:42:55.958571Z"
    }
   },
   "outputs": [],
   "source": [
    "for vehicle in raw_data[\"vehicles\"]:\n",
    "    for event in vehicle[\"vehicle_events\"]:\n",
    "        all(\n",
    "            event[\"vehicle_event_type\"] != \"service_trip\" and \"trip_id\" not in event\n",
    "            for event in vehicle[\"vehicle_events\"]\n",
    "        )\n",
    "        all(\n",
    "            event[\"vehicle_event_type\"] == \"service_trip\" and \"trip_id\" in event\n",
    "            for event in vehicle[\"vehicle_events\"]\n",
    "        )\n",
    "# Fact: only service trips have trip_ids"
   ]
  },
  {
   "cell_type": "code",
   "execution_count": 51,
   "id": "ab56bad399fd3782",
   "metadata": {
    "ExecuteTime": {
     "end_time": "2024-12-22T12:42:55.977546Z",
     "start_time": "2024-12-22T12:42:55.974545Z"
    }
   },
   "outputs": [],
   "source": [
    "for stop in raw_data[\"stops\"]:\n",
    "    if stop[\"is_depot\"]:\n",
    "        assert all(\n",
    "            trip[\"origin_stop_id\"] != stop[\"stop_id\"]\n",
    "            and trip[\"destination_stop_id\"] != stop[\"stop_id\"]\n",
    "            for trip in raw_data[\"trips\"]\n",
    "        )\n",
    "# Fact: no service trips end or start at the depot (a depot is not a 'normal' spot and a depot simultaneously)"
   ]
  },
  {
   "cell_type": "code",
   "execution_count": 52,
   "id": "15aba9742877a63b",
   "metadata": {
    "ExecuteTime": {
     "end_time": "2024-12-22T12:42:55.989003Z",
     "start_time": "2024-12-22T12:42:55.985620Z"
    }
   },
   "outputs": [],
   "source": [
    "sorted_stops = sorted(raw_data[\"stops\"], key=lambda x: (x[\"latitude\"], x[\"longitude\"]))\n",
    "assert all(\n",
    "    sorted_stops[i][\"latitude\"] != sorted_stops[i + 1][\"latitude\"]\n",
    "    and sorted_stops[i][\"longitude\"] != sorted_stops[i + 1][\"longitude\"]\n",
    "    for i in range(len(sorted_stops) - 1)\n",
    ")\n",
    "# Fact: no two stops have the same geographical location\n",
    "# This doesn't help me that much in knowing whether taxis/deadheads are necessary between any two stops.\n",
    "# The distance might be small and the driver might get to the next one by walking, but I'll assume that's never the case, as I haven't been asked to do much error-handling."
   ]
  },
  {
   "cell_type": "markdown",
   "id": "2ad1c8ad692c1562",
   "metadata": {},
   "source": [
    "# Note:\n",
    "Breaks of a duty can happen within the duty data structure (between vehicles, during a \"split\") or within the vehicle data structure (between trips, called \"layover\")"
   ]
  },
  {
   "cell_type": "code",
   "execution_count": 54,
   "id": "8a9a02442868ee6c",
   "metadata": {
    "ExecuteTime": {
     "end_time": "2024-12-22T12:43:03.711189Z",
     "start_time": "2024-12-22T12:43:03.700819Z"
    }
   },
   "outputs": [],
   "source": [
    "from json import dump\n",
    "\n",
    "unittests_json = {\n",
    "    \"duties\": [],\n",
    "    \"vehicles\": [],\n",
    "    \"trips\": [],\n",
    "    \"stops\": [],\n",
    "}\n",
    "\n",
    "\n",
    "def filter_objects_by_id(\n",
    "    object_list: dict, object_name: str, ids: list[str]\n",
    ") -> list[dict]:\n",
    "    \"\"\"Filters the objects in object_list by their id\n",
    "\n",
    "    Args:\n",
    "    object_list: A list of objects\n",
    "    object_name: The name of the object type in object_list\n",
    "    ids: A list of ids\n",
    "\n",
    "    Returns:\n",
    "        A list of objects whose id is in ids\n",
    "    \"\"\"\n",
    "    return [obj for obj in object_list if obj[f\"{object_name}_id\"] in ids]\n",
    "\n",
    "\n",
    "def get_vehicles_in_duty(duty: dict) -> set[str]:\n",
    "    return {\n",
    "        e[\"vehicle_id\"]\n",
    "        for e in duty[\"duty_events\"]\n",
    "        if e[\"duty_event_type\"] == \"vehicle_event\"\n",
    "    }\n",
    "\n",
    "\n",
    "# It's good to have a reduced test dataset for the tests to be quick to run and\n",
    "# to be able to debug them from start to end in a reasonable amount of time\n",
    "# when they fail. Below, I select from the entire dataset a subset that encompasses\n",
    "# a complex-enough scenario (duties that have overlap in vehicles, and that have\n",
    "# multiple vehicles), in order to cover most edge cases.\n",
    "\n",
    "selected_duties: list[dict] = []\n",
    "\n",
    "multi_vehicle_duties = [\n",
    "    duty for duty in raw_data[\"duties\"] if len(get_vehicles_in_duty(duty)) > 1\n",
    "]\n",
    "\n",
    "for multi_vehicle_duty in multi_vehicle_duties:\n",
    "    vehicles_in_duty = get_vehicles_in_duty(multi_vehicle_duty)\n",
    "    for other_duty in raw_data[\"duties\"]:\n",
    "        if other_duty == multi_vehicle_duty:\n",
    "            continue\n",
    "        vehicles_in_other_duty = get_vehicles_in_duty(other_duty)\n",
    "        if vehicles_in_duty.intersection(vehicles_in_other_duty):\n",
    "            selected_duties = [multi_vehicle_duty, other_duty]\n",
    "            break\n",
    "    if selected_duties:\n",
    "        break\n",
    "\n",
    "selected_duties.append(\n",
    "    [duty for duty in raw_data[\"duties\"] if len(get_vehicles_in_duty(duty)) == 1][0]\n",
    ")\n",
    "\n",
    "# Although I could have avoided recomputing the vehicles in each duty, this code\n",
    "# is ran only once and it runs in milisseconds, optimizing here is unnecessary.\n",
    "relevant_vehicles = set()\n",
    "for duty in selected_duties:\n",
    "    relevant_vehicles.update(get_vehicles_in_duty(duty))\n",
    "\n",
    "unittests_json[\"duties\"] = selected_duties\n",
    "unittests_json[\"vehicles\"] = [\n",
    "    vehicle\n",
    "    for vehicle in raw_data[\"vehicles\"]\n",
    "    if vehicle[\"vehicle_id\"] in relevant_vehicles\n",
    "]\n",
    "\n",
    "relevant_trips = {\n",
    "    event[\"trip_id\"]\n",
    "    for vehicle in unittests_json[\"vehicles\"]\n",
    "    for event in vehicle[\"vehicle_events\"]\n",
    "    if event[\"vehicle_event_type\"] == \"service_trip\"\n",
    "}\n",
    "\n",
    "unittests_json[\"trips\"] = filter_objects_by_id(\n",
    "    raw_data[\"trips\"], \"trip\", relevant_trips\n",
    ")\n",
    "\n",
    "relevant_stops = {\n",
    "    stop_id\n",
    "    for trip in unittests_json[\"trips\"]\n",
    "    for stop_id in [trip[\"origin_stop_id\"], trip[\"destination_stop_id\"]]\n",
    "}\n",
    "unittests_json[\"stops\"] = filter_objects_by_id(\n",
    "    raw_data[\"stops\"], \"stop\", relevant_stops\n",
    ")\n",
    "\n",
    "dump(unittests_json, open(\"../tests/unittests_json.json\", \"w\"), indent=2)"
   ]
  }
 ],
 "metadata": {
  "kernelspec": {
   "display_name": "Python 3",
   "language": "python",
   "name": "python3"
  },
  "language_info": {
   "codemirror_mode": {
    "name": "ipython",
    "version": 2
   },
   "file_extension": ".py",
   "mimetype": "text/x-python",
   "name": "python",
   "nbconvert_exporter": "python",
   "pygments_lexer": "ipython2",
   "version": "2.7.6"
  }
 },
 "nbformat": 4,
 "nbformat_minor": 5
}
